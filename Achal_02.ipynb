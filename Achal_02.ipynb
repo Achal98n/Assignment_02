{
 "cells": [
  {
   "cell_type": "code",
   "execution_count": 1,
   "id": "a6cceaa4-1b16-414e-9508-06616866ee20",
   "metadata": {},
   "outputs": [
    {
     "name": "stdout",
     "output_type": "stream",
     "text": [
      "[[ 76.  126.   38. ]\n",
      " [ 74.  120.   38. ]\n",
      " [ 72.  118.   37.5]\n",
      " [ 78.  136.   37. ]]\n",
      "3\n",
      "[[0 1 2 3]\n",
      " [1 2 0 3]]\n",
      "4\n"
     ]
    }
   ],
   "source": [
    "import numpy as np\n",
    "\n",
    "# Create a numpy array with patient data and attributes\n",
    "patient_data = np.array([[76,126,38.0],\n",
    "                         [74,120,38.0],\n",
    "                         [72,118,37.5],\n",
    "                         [78,136,37.0]])\n",
    "                         \n",
    "print(patient_data)\n",
    "# Calculate pairwise Euclidean distances\n",
    "distances = np.sqrt(np.sum((patient_data[:, np.newaxis] - patient_data) ** 2, axis=2))\n",
    "\n",
    "# Find the indices of the furthest and nearest patients\n",
    "furthest_patient = np.argmax(np.sum(distances, axis=1))\n",
    "print(furthest_patient)\n",
    "nearest_patient = np.argsort(distances, axis=1)[:2]\n",
    "print(nearest_patient)\n",
    "\n",
    "# Add a dummy person\n",
    "dummy_person = np.array([13, 14, 15.0])\n",
    "patient_data = np.vstack((patient_data, dummy_person))\n",
    "\n",
    "# Recalculate distances with the dummy person\n",
    "distances = np.sqrt(np.sum((patient_data[:, np.newaxis] - patient_data) ** 2, axis=2))\n",
    "\n",
    "# Find the index of the closest patient to the dummy person\n",
    "closest_patient = np.argmin(distances[-1])\n",
    "print(closest_patient)"
   ]
  },
  {
   "cell_type": "code",
   "execution_count": null,
   "id": "e2c3588f-6c6a-4d79-8a4b-5037ae07aa15",
   "metadata": {},
   "outputs": [],
   "source": []
  }
 ],
 "metadata": {
  "kernelspec": {
   "display_name": "Python 3 (ipykernel)",
   "language": "python",
   "name": "python3"
  },
  "language_info": {
   "codemirror_mode": {
    "name": "ipython",
    "version": 3
   },
   "file_extension": ".py",
   "mimetype": "text/x-python",
   "name": "python",
   "nbconvert_exporter": "python",
   "pygments_lexer": "ipython3",
   "version": "3.10.8"
  }
 },
 "nbformat": 4,
 "nbformat_minor": 5
}
